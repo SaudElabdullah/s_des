{
 "cells": [
  {
   "cell_type": "markdown",
   "metadata": {},
   "source": [
    "This The implementation of the S-DES algorithm:"
   ]
  },
  {
   "cell_type": "markdown",
   "metadata": {},
   "source": [
    "1. P-BOX:"
   ]
  },
  {
   "cell_type": "code",
   "execution_count": 37,
   "metadata": {},
   "outputs": [],
   "source": [
    "initial_p_box_mapping = [2,6,3,1,4,8,5,7]\n",
    "final_p_box_mapping = [4,1,3,5,7,2,8,6]\n",
    "compression_p_box_mapping = [6,3,7,4,8,5,10,9]\n",
    "straight_p_box_mapping = [3,5,2,7,4,10,1,9,8,6]\n",
    "expansion_p_box_mapping = [4,1,2,3,2,3,4,1]\n",
    "def generalBox(data,mapping):\n",
    "    return [data[i - 1] for i in mapping]"
   ]
  },
  {
   "cell_type": "markdown",
   "metadata": {},
   "source": [
    "2. Key generation:"
   ]
  },
  {
   "cell_type": "code",
   "execution_count": 42,
   "metadata": {},
   "outputs": [],
   "source": [
    "def leftShift(data,numberOfShofts):\n",
    "    for shifts in range(numberOfShofts):\n",
    "        data.append(data.pop(0))\n",
    "    return data\n",
    "\n",
    "def keyGeneration(key):\n",
    "    keys = []\n",
    "    data = [*str(key)]\n",
    "    data = generalBox(data,straight_p_box_mapping)\n",
    "    \n",
    "    k1 = data[:5]\n",
    "    k2 = data[5:]\n",
    "    \n",
    "    k1 = leftShift(k1, 1)\n",
    "    k2 = leftShift(k2, 1)\n",
    "    \n",
    "    keys.append(generalBox(k1+k2,compression_p_box_mapping))\n",
    "    \n",
    "    k1 = leftShift(k1, 2)\n",
    "    k2 = leftShift(k2, 2)\n",
    "    \n",
    "    keys.append(generalBox(k1+k2,compression_p_box_mapping))\n",
    "    \n",
    "    return keys"
   ]
  },
  {
   "cell_type": "markdown",
   "metadata": {},
   "source": [
    "3. The S-DES round:"
   ]
  },
  {
   "cell_type": "code",
   "execution_count": null,
   "metadata": {},
   "outputs": [],
   "source": [
    "one_s_box_mapping = [[1,0,3,2],[3,2,1,0],[0,2,1,3],[3,1,3,2]]\n",
    "one_s_box_mapping = [[0,1,2,3],[2,0,1,3],[3,0,1,0],[2,1,0,3]]\n",
    "def sBox_permutation(data,mapping):\n",
    "    for block_num, block in enumerate(data):\n",
    "        mapping = mapping.sBox_perm_map[block_num]\n",
    "        i = int(block[0] + block[5], 2)\n",
    "        j = int(''.join([block[x] for x in range(1, 5)]), 2)\n",
    "        block = (\"{0:b}\".format(mapping[i][j])).zfill(4)\n",
    "        data[block_num] = block\n",
    "\n",
    "    return ''.join(data)\n",
    "\n",
    "def function(r,key):\n",
    "    r = generalBox([*str(r)],straight_p_box_mapping)\n",
    "    \n",
    "    xor_result = int(r.join('')) ^ int(key.join(''))\n",
    "    \n",
    "    \n",
    "\n",
    "def mixer(l,r):\n",
    "    print('')\n",
    "\n",
    "def Round(l,r,withSwapper):\n",
    "    print('')"
   ]
  }
 ],
 "metadata": {
  "kernelspec": {
   "display_name": "Python 3.8.9 64-bit",
   "language": "python",
   "name": "python3"
  },
  "language_info": {
   "codemirror_mode": {
    "name": "ipython",
    "version": 3
   },
   "file_extension": ".py",
   "mimetype": "text/x-python",
   "name": "python",
   "nbconvert_exporter": "python",
   "pygments_lexer": "ipython3",
   "version": "3.8.9"
  },
  "orig_nbformat": 4,
  "vscode": {
   "interpreter": {
    "hash": "31f2aee4e71d21fbe5cf8b01ff0e069b9275f58929596ceb00d14d90e3e16cd6"
   }
  }
 },
 "nbformat": 4,
 "nbformat_minor": 2
}
