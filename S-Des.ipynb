{
 "cells": [
  {
   "cell_type": "markdown",
   "metadata": {},
   "source": [
    "This The implementation of the S-DES algorithm:\n"
   ]
  },
  {
   "cell_type": "markdown",
   "metadata": {},
   "source": [
    "1. P-BOX:\n"
   ]
  },
  {
   "cell_type": "code",
   "execution_count": 267,
   "metadata": {},
   "outputs": [],
   "source": [
    "initial_p_box_mapping = [2,6,3,1,4,8,5,7]\n",
    "final_p_box_mapping = [4,1,3,5,7,2,8,6]\n",
    "compression_p_box_mapping = [6,3,7,4,8,5,10,9]\n",
    "straight_p_box_mapping = [3,5,2,7,4,10,1,9,8,6]\n",
    "straight_p_box_mapping_small = [2,4,3,1]\n",
    "expansion_p_box_mapping = [4,1,2,3,2,3,4,1]\n",
    "def generalBox(data,mapping):\n",
    "    return [data[i - 1] for i in mapping]"
   ]
  },
  {
   "cell_type": "markdown",
   "metadata": {},
   "source": [
    "2. Key generation:\n"
   ]
  },
  {
   "cell_type": "code",
   "execution_count": 268,
   "metadata": {},
   "outputs": [],
   "source": [
    "def leftShift(data,numberOfShifts):\n",
    "    for shifts in range(numberOfShifts):\n",
    "        data.append(data.pop(0))\n",
    "    return data\n",
    "\n",
    "def keyGeneration(key):\n",
    "    keys = []\n",
    "    data = [*str(key)]\n",
    "    data = generalBox(data,straight_p_box_mapping)\n",
    "    \n",
    "    k1 = data[:5]\n",
    "    k2 = data[5:]\n",
    "    \n",
    "    k1 = leftShift(k1, 1)\n",
    "    k2 = leftShift(k2, 1)\n",
    "    \n",
    "    keys.append(generalBox(k1+k2,compression_p_box_mapping))\n",
    "    \n",
    "    k1 = leftShift(k1, 2)\n",
    "    k2 = leftShift(k2, 2)\n",
    "    \n",
    "    keys.append(generalBox(k1+k2,compression_p_box_mapping))\n",
    "    \n",
    "    return keys"
   ]
  },
  {
   "cell_type": "markdown",
   "metadata": {},
   "source": [
    "3. The S-DES round:\n"
   ]
  },
  {
   "cell_type": "code",
   "execution_count": 269,
   "metadata": {},
   "outputs": [],
   "source": [
    "one_s_box_mapping = [[\"01\", \"00\", \"11\", \"10\"], [\"11\", \"10\", \"01\", \"00\"], [\n",
    "    \"00\", \"10\", \"01\", \"11\"], [\"11\", \"01\", \"11\", \"10\"]]\n",
    "two_s_box_mapping = [[\"00\", \"01\", \"10\", \"11\"], [\"10\", \"00\", \"01\", \"11\"], [\n",
    "    \"11\", \"00\", \"01\", \"00\"], [\"10\", \"01\", \"00\", \"11\"]]\n",
    "\n",
    "\n",
    "def sBox_permutation(data, mapping):\n",
    "    i = int('00'+(data[0]) + (data[3]), 2)\n",
    "    j = int('00'+(data[1]) + (data[2]), 2)\n",
    "    return mapping[i][j]\n",
    "\n",
    "\n",
    "def function(r, key):\n",
    "\n",
    "    r = generalBox(r, expansion_p_box_mapping)\n",
    "\n",
    "    xor_result = [str((ord(a) ^ ord(b))) for a, b in zip(r, key)]\n",
    "    \n",
    "    k1 = xor_result[:4]\n",
    "    k2 = xor_result[4:]\n",
    "    \n",
    "    sBoxResult = sBox_permutation(\n",
    "        k1, one_s_box_mapping) + sBox_permutation(k2, two_s_box_mapping)\n",
    "        \n",
    "    return generalBox([*str(sBoxResult)], straight_p_box_mapping_small)\n",
    "\n",
    "\n",
    "def mixer(l, r, key):\n",
    "\n",
    "    function_result = function(r, key)\n",
    "    \n",
    "    xor_result = [str((ord(a) ^ ord(b))) for a, b in zip(l, function_result)]\n",
    "\n",
    "    return [xor_result, r]\n",
    "\n",
    "\n",
    "def Round(l, r, key, withSwapper):\n",
    "    mixerResult = mixer(l, r, key)\n",
    "    if(withSwapper):\n",
    "        return [mixerResult[1], mixerResult[0]]\n",
    "    else:\n",
    "        return mixerResult\n"
   ]
  },
  {
   "cell_type": "markdown",
   "metadata": {},
   "source": [
    "4. Compine everything to encrpyt and decrypt:"
   ]
  },
  {
   "cell_type": "code",
   "execution_count": 270,
   "metadata": {},
   "outputs": [
    {
     "name": "stdout",
     "output_type": "stream",
     "text": [
      "Start Encrypting\n",
      "['0', '1', '1', '1', '0', '1', '1', '1']\n",
      "Start Encrypting\n",
      "['1', '1', '1', '1', '0', '0', '1', '0']\n"
     ]
    }
   ],
   "source": [
    "def encrypt(data,key):\n",
    "    print('Start Encrypting')\n",
    "    initial_permutation = generalBox(data,initial_p_box_mapping)\n",
    "    keys = keyGeneration(key)\n",
    "    round_result_one = Round(initial_permutation[:4],initial_permutation[4:],keys[0],True)\n",
    "    round_result_two = Round(round_result_one[0],round_result_one[1],keys[1],False)\n",
    "    return generalBox(round_result_two[0]+round_result_two[1],final_p_box_mapping)\n",
    "\n",
    "def decrypt(data,key):\n",
    "    print('Start Encrypting')\n",
    "    initial_permutation = generalBox(data,initial_p_box_mapping)\n",
    "    keys = keyGeneration(key)\n",
    "    round_result_one = Round(initial_permutation[:4],initial_permutation[4:],keys[1],True)\n",
    "    round_result_two = Round(round_result_one[0],round_result_one[1],keys[0],False)\n",
    "    return generalBox(round_result_two[0]+round_result_two[1],final_p_box_mapping)\n",
    "\n",
    "\n",
    "print(encrypt(\"11110010\",\"1011100110\"))\n",
    "print(decrypt(\"01110111\",\"1011100110\"))"
   ]
  }
 ],
 "metadata": {
  "kernelspec": {
   "display_name": "Python 3.9.7 ('base')",
   "language": "python",
   "name": "python3"
  },
  "language_info": {
   "codemirror_mode": {
    "name": "ipython",
    "version": 3
   },
   "file_extension": ".py",
   "mimetype": "text/x-python",
   "name": "python",
   "nbconvert_exporter": "python",
   "pygments_lexer": "ipython3",
   "version": "3.9.7"
  },
  "orig_nbformat": 4,
  "vscode": {
   "interpreter": {
    "hash": "40d3a090f54c6569ab1632332b64b2c03c39dcf918b08424e98f38b5ae0af88f"
   }
  }
 },
 "nbformat": 4,
 "nbformat_minor": 2
}
