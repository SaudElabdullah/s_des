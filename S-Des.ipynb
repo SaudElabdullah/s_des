{
 "cells": [
  {
   "cell_type": "markdown",
   "metadata": {},
   "source": [
    "This The implementation of the S-DES algorithm:\n"
   ]
  },
  {
   "cell_type": "markdown",
   "metadata": {},
   "source": [
    "1. P-BOX:\n"
   ]
  },
  {
   "cell_type": "code",
   "execution_count": 2,
   "metadata": {},
   "outputs": [],
   "source": [
    "initial_p_box_mapping = [2,6,3,1,4,8,5,7]\n",
    "final_p_box_mapping = [4,1,3,5,7,2,8,6]\n",
    "compression_p_box_mapping = [6,3,7,4,8,5,10,9]\n",
    "straight_p_box_mapping = [3,5,2,7,4,10,1,9,8,6]\n",
    "straight_p_box_mapping_small = [2,4,3,1]\n",
    "expansion_p_box_mapping = [4,1,2,3,2,3,4,1]\n",
    "def generalBox(data,mapping):\n",
    "    return [data[i - 1] for i in mapping]"
   ]
  },
  {
   "cell_type": "markdown",
   "metadata": {},
   "source": [
    "2. Key generation:\n"
   ]
  },
  {
   "cell_type": "code",
   "execution_count": 3,
   "metadata": {},
   "outputs": [],
   "source": [
    "def leftShift(data,numberOfShifts):\n",
    "    for shifts in range(numberOfShifts):\n",
    "        data.append(data.pop(0))\n",
    "    return data\n",
    "\n",
    "def keyGeneration(key):\n",
    "    keys = []\n",
    "    data = [*str(key)]\n",
    "    data = generalBox(data,straight_p_box_mapping)\n",
    "    \n",
    "    k1 = data[:5]\n",
    "    k2 = data[5:]\n",
    "    \n",
    "    k1 = leftShift(k1, 1)\n",
    "    k2 = leftShift(k2, 1)\n",
    "    \n",
    "    keys.append(generalBox(k1+k2,compression_p_box_mapping))\n",
    "    \n",
    "    k1 = leftShift(k1, 2)\n",
    "    k2 = leftShift(k2, 2)\n",
    "    \n",
    "    keys.append(generalBox(k1+k2,compression_p_box_mapping))\n",
    "    \n",
    "    return keys"
   ]
  },
  {
   "cell_type": "markdown",
   "metadata": {},
   "source": [
    "3. The S-DES round:\n"
   ]
  },
  {
   "cell_type": "code",
   "execution_count": 4,
   "metadata": {},
   "outputs": [],
   "source": [
    "one_s_box_mapping = [[\"01\", \"00\", \"11\", \"10\"], [\"11\", \"10\", \"01\", \"00\"], [\n",
    "    \"00\", \"10\", \"01\", \"11\"], [\"11\", \"01\", \"11\", \"10\"]]\n",
    "two_s_box_mapping = [[\"00\", \"01\", \"10\", \"11\"], [\"10\", \"00\", \"01\", \"11\"], [\n",
    "    \"11\", \"00\", \"01\", \"00\"], [\"10\", \"01\", \"00\", \"11\"]]\n",
    "\n",
    "\n",
    "def sBox_permutation(data, mapping):\n",
    "    i = int('00'+(data[0]) + (data[3]), 2)\n",
    "    j = int('00'+(data[1]) + (data[2]), 2)\n",
    "    return mapping[i][j]\n",
    "\n",
    "\n",
    "def function(r, key):\n",
    "\n",
    "    r = generalBox(r, expansion_p_box_mapping)\n",
    "\n",
    "    xor_result = [str((ord(a) ^ ord(b))) for a, b in zip(r, key)]\n",
    "    \n",
    "    k1 = xor_result[:4]\n",
    "    k2 = xor_result[4:]\n",
    "    \n",
    "    sBoxResult = sBox_permutation(\n",
    "        k1, one_s_box_mapping) + sBox_permutation(k2, two_s_box_mapping)\n",
    "        \n",
    "    return generalBox([*str(sBoxResult)], straight_p_box_mapping_small)\n",
    "\n",
    "\n",
    "def mixer(l, r, key):\n",
    "\n",
    "    function_result = function(r, key)\n",
    "    \n",
    "    xor_result = [str((ord(a) ^ ord(b))) for a, b in zip(l, function_result)]\n",
    "\n",
    "    return [xor_result, r]\n",
    "\n",
    "\n",
    "def Round(l, r, key, withSwapper):\n",
    "    mixerResult = mixer(l, r, key)\n",
    "    if(withSwapper):\n",
    "        return [mixerResult[1], mixerResult[0]]\n",
    "    else:\n",
    "        return mixerResult\n"
   ]
  },
  {
   "cell_type": "markdown",
   "metadata": {},
   "source": [
    "4. Compine everything to encrpyt and decrypt:"
   ]
  },
  {
   "cell_type": "code",
   "execution_count": 5,
   "metadata": {},
   "outputs": [],
   "source": [
    "def encrypt(data,key):\n",
    "    initial_permutation = generalBox(data,initial_p_box_mapping)\n",
    "    keys = keyGeneration(key)\n",
    "    round_result_one = Round(initial_permutation[:4],initial_permutation[4:],keys[0],True)\n",
    "    round_result_two = Round(round_result_one[0],round_result_one[1],keys[1],False)\n",
    "    return generalBox(round_result_two[0]+round_result_two[1],final_p_box_mapping)\n",
    "\n",
    "def decrypt(data,key):\n",
    "    initial_permutation = generalBox(data,initial_p_box_mapping)\n",
    "    keys = keyGeneration(key)\n",
    "    round_result_one = Round(initial_permutation[:4],initial_permutation[4:],keys[1],True)\n",
    "    round_result_two = Round(round_result_one[0],round_result_one[1],keys[0],False)\n",
    "    return generalBox(round_result_two[0]+round_result_two[1],final_p_box_mapping)"
   ]
  },
  {
   "cell_type": "markdown",
   "metadata": {},
   "source": [
    "Testing all:"
   ]
  },
  {
   "attachments": {},
   "cell_type": "markdown",
   "metadata": {},
   "source": [
    "The results:\n",
    "1. Encryption:\n",
    "\n",
    "| File Size |   25K  |   50K  |   1MB  |  250MB  |  500MB  |\n",
    "|:---------:|:------:|:------:|:------:|:-------:|:-------:|\n",
    "|   S-Des   | 0.0716 | 0.1433 | 2.8931 |  655.92 | 1384.19 |\n",
    "|    Des    | 0.0048 | 0.0082 | 0.1516 | 46.6563 | 92.3333 |\n",
    "|    RSA    | 1.9887 | 3.9228 | 80.413 | 19918.7 | 40082.7 |\n",
    "\n",
    "2. Decryption:\n",
    "\n",
    "| File Size |   25K  |   50K  |   1MB   |  250MB  |  500MB  |\n",
    "|:---------:|:------:|:------:|:-------:|:-------:|:-------:|\n",
    "|   S-Des   | 0.0910 | 0.1796 |  3.5732 | 699.001 | 1384.19 |\n",
    "|    Des    | 0.0008 | 0.0008 |  0.0008 |  0.0007 |  0.0007 |\n",
    "|    RSA    | 4.1005 | 8.3000 | 152.123 | 40112.0 | 80482.6 |\n",
    "\n",
    "Note: All results in seconds."
   ]
  }
 ],
 "metadata": {
  "kernelspec": {
   "display_name": "Python 3.9.6 64-bit",
   "language": "python",
   "name": "python3"
  },
  "language_info": {
   "codemirror_mode": {
    "name": "ipython",
    "version": 3
   },
   "file_extension": ".py",
   "mimetype": "text/x-python",
   "name": "python",
   "nbconvert_exporter": "python",
   "pygments_lexer": "ipython3",
   "version": "3.9.6"
  },
  "orig_nbformat": 4,
  "vscode": {
   "interpreter": {
    "hash": "31f2aee4e71d21fbe5cf8b01ff0e069b9275f58929596ceb00d14d90e3e16cd6"
   }
  }
 },
 "nbformat": 4,
 "nbformat_minor": 2
}
